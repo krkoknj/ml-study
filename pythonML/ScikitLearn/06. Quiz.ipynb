{
 "cells": [
  {
   "cell_type": "code",
   "execution_count": 1,
   "id": "c9463ae1-3227-4843-84cb-a999110e3c80",
   "metadata": {},
   "outputs": [],
   "source": [
    "import numpy as np\n",
    "import matplotlib.pyplot as plt\n",
    "import pandas as pd"
   ]
  },
  {
   "cell_type": "code",
   "execution_count": 11,
   "id": "1261e510-ce05-4bef-abe7-15c0f31786f5",
   "metadata": {},
   "outputs": [
    {
     "name": "stdout",
     "output_type": "stream",
     "text": [
      "X= [[118]\n",
      " [253]\n",
      " [320]\n",
      " [ 94]\n",
      " [155]\n",
      " [188]\n",
      " [201]\n",
      " [338]\n",
      " [186]\n",
      " [183]\n",
      " [223]\n",
      " [392]\n",
      " [ 86]\n",
      " [112]\n",
      " [129]\n",
      " [223]\n",
      " [288]\n",
      " [262]\n",
      " [143]\n",
      " [179]]\n",
      "y= [ 62 148 201  80  92 131 147 187 124 152 143 199  58  68  76 149 152 183\n",
      "  88 101]\n"
     ]
    }
   ],
   "source": [
    "dataset = pd.read_csv('QuizData.csv')\n",
    "X = dataset.iloc[:, :-1].values;\n",
    "print('X=',X)\n",
    "y = dataset.iloc[:, 1].values;\n",
    "print('y=',y)"
   ]
  },
  {
   "cell_type": "code",
   "execution_count": 14,
   "id": "6af19829-f67a-43b2-8095-30e7476765cb",
   "metadata": {},
   "outputs": [
    {
     "data": {
      "text/plain": [
       "array([[262],\n",
       "       [201],\n",
       "       [112],\n",
       "       [155],\n",
       "       [320],\n",
       "       [188],\n",
       "       [129],\n",
       "       [183],\n",
       "       [338],\n",
       "       [288],\n",
       "       [392],\n",
       "       [ 94],\n",
       "       [118],\n",
       "       [223],\n",
       "       [ 86]])"
      ]
     },
     "execution_count": 14,
     "metadata": {},
     "output_type": "execute_result"
    }
   ],
   "source": [
    "from sklearn.model_selection import train_test_split\n",
    "X_train, X_test, y_train, y_test = train_test_split(X, y, test_size=0.25, random_state=0)\n",
    "X_train"
   ]
  },
  {
   "cell_type": "code",
   "execution_count": null,
   "id": "7a4bc098-8f51-4381-8811-592de7cb3996",
   "metadata": {},
   "outputs": [],
   "source": []
  }
 ],
 "metadata": {
  "kernelspec": {
   "display_name": "Python 3 (ipykernel)",
   "language": "python",
   "name": "python3"
  },
  "language_info": {
   "codemirror_mode": {
    "name": "ipython",
    "version": 3
   },
   "file_extension": ".py",
   "mimetype": "text/x-python",
   "name": "python",
   "nbconvert_exporter": "python",
   "pygments_lexer": "ipython3",
   "version": "3.11.4"
  }
 },
 "nbformat": 4,
 "nbformat_minor": 5
}
